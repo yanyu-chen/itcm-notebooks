{
 "cells": [
  {
   "cell_type": "markdown",
   "metadata": {},
   "source": [
    "# Lab 5\n",
    "\n",
    "1. 提交作業之前，建議可以先點選上方工具列的**Kernel**，再選擇**Restart & Run All**，檢查一下是否程式跑起來都沒有問題，最後記得儲存。\n",
    "2. 請先填上下方的姓名(name)及學號(stduent_id)再開始作答，例如：\n",
    "```python\n",
    "name = \"我的名字\"\n",
    "student_id= \"B06201000\"\n",
    "```\n",
    "3. 演算法的實作可以參考[lab-5](https://yuanyuyuan.github.io/itcm/lab-5.html), 有任何問題歡迎找助教詢問。\n",
    "4. **Deadline: 12/11(Wed.)**"
   ]
  },
  {
   "cell_type": "code",
   "execution_count": null,
   "metadata": {},
   "outputs": [],
   "source": [
    "name = \"陳彥宇\"\n",
    "student_id = \"B05303134\""
   ]
  },
  {
   "cell_type": "markdown",
   "metadata": {},
   "source": [
    "---"
   ]
  },
  {
   "cell_type": "markdown",
   "metadata": {
    "deletable": false,
    "editable": false,
    "nbgrader": {
     "cell_type": "markdown",
     "checksum": "8caa51313bc7dfbde7a7a4c46f4c8754",
     "grade": false,
     "grade_id": "cell-8c0898d088432222",
     "locked": true,
     "points": 12,
     "schema_version": 3,
     "solution": false,
     "task": true
    }
   },
   "source": [
    "# Exercise 3\n",
    "---\n",
    "### Analyse the convergence properties of the Jacobi and Gauss-Seidel methods for the solution of a linear system whose matrix is\n",
    "### $$\\left[\\begin{matrix}\n",
    "    \\alpha &&0 &&1\\\\\n",
    "    0 &&\\alpha &&0\\\\\n",
    "    1 &&0 &&\\alpha\n",
    "    \\end{matrix}\\right],\n",
    "    \\quad \\quad\n",
    "    \\alpha \\in \\mathbb{R}.$$"
   ]
  },
  {
   "cell_type": "markdown",
   "metadata": {},
   "source": [
    "> Please write down your analysis in detail with LaTeX/Markdown at here. And if you need to do some numerical experiments, you can add more blocks to test your codes at below."
   ]
  },
  {
   "cell_type": "markdown",
   "metadata": {},
   "source": [
    "### Jacobi Method\n",
    "Let $A$ be the matrix\n",
    "$\\begin{bmatrix}\\alpha & 0 & 1 \\\\ 0 & \\alpha & 0 \\\\ 1 & 0 & \\alpha \\end{bmatrix}$ for $\\alpha\\in\\mathbb{R}$. The matrix $A$ can be decomposed into the three matrix, $L$, $D$, and $U$, such that $A=L+D+U$, where $L= \\begin{bmatrix} 0 & 0 & 0 \\\\ 0 & 0 & 0 \\\\ 1 & 0 & 0 \\end{bmatrix}$, $D=\\begin{bmatrix}\\alpha & 0 & 0 \\\\ 0 & \\alpha & 0 \\\\ 0 & 0 & \\alpha \\end{bmatrix}$, and $U=\\begin{bmatrix} 0 & 0 & 1 \\\\ 0 & 0 & 0 \\\\ 0 & 0 & 0 \\end{bmatrix}$. The Jacobi iteration is thus follewed by \n",
    "$$x^{(n)} = D^{-1}(b-(L+U)x_{n-1})=\\begin{bmatrix} b_1/\\alpha \\\\ b_2/\\alpha \\\\ b_3/\\alpha \\end{bmatrix} - \\begin{bmatrix} 0 & 0 & 1/\\alpha \\\\ 0 & 0 & 0 \\\\ 1/\\alpha & 0 & 0 \\end{bmatrix}x^{(n-1)}=\\begin{bmatrix} (b_1-x_3^{(n-1)})/\\alpha \\\\ b_2/\\alpha \\\\ (b_3-x_1^{(n-1)})/\\alpha \\end{bmatrix},$$\n",
    "provided by $\\alpha\\neq 0$ for $n\\in\\mathbb{N}$. Furthermore, if we defined the iteration matrix $G=-D^{-1}(L+U)=I-D^{-1}A$, then the error $e^{(n)}$ of the $n$th iteration can be computed by\n",
    "$$e^{(n)} = G e^{(n-1)}= \\begin{bmatrix} 0 & 0 & -1/\\alpha \\\\ 0 & 0 & 0 \\\\ -1/\\alpha & 0 & 0 \\end{bmatrix}e^{(n-1)}=G^ne^{(0)}=\\begin{cases}\\begin{bmatrix} 0 & 0 & -1/\\alpha^n \\\\ 0 & 0 & 0 \\\\ -1/\\alpha^n & 0 & 0 \\end{bmatrix}e^{(0)} \\ &\\text{if $n$ is odd.} \\\\ \\begin{bmatrix} 1/\\alpha^n & 0 & 0 \\\\ 0 & 0 & 0 \\\\ 0 & 0 & 1/\\alpha^n \\end{bmatrix}e^{(0)} \\ &\\text{if $n$ is even.} \\end{cases}$$\n",
    "Or simply $e^{(n)} = \\begin{cases} \\begin{bmatrix} -e_3^{(0)}/\\alpha^n \\\\ 0 \\\\ -e_1^{(0)}/\\alpha^n \\end{bmatrix} \\ &\\text{if $n$ is odd.} \\\\ \\begin{bmatrix} e_1^{(0)}/\\alpha^n \\\\ 0 \\\\ e_3^{(0)}/\\alpha^n \\end{bmatrix} \\ &\\text{if $n$ is even.} \\end{cases}$\n",
    "\n",
    "\n",
    "From the explicit form of $e^{(n)}$, it is clear that $e^{(n)}\\to 0$ as $n\\to\\infty$ if $|\\alpha|>1$. Alternatively, since the eignvales of $G$ are $-1/\\alpha$, $0$, and $1/\\alpha$, $e^{(n)}$ converges to zero if and only if $\\rho(G)=\\max\\{\\lambda:\\text{$\\lambda$ is an eigenvalue of $G$}\\}=1/|\\alpha| < 1$, namely $|\\alpha|>1$.\n",
    "\n",
    "The rate of convergence can also be derived by $\\lVert e^{(n)}\\rVert \\leq \\lVert G \\rVert \\lVert e^{(n-1)}\\rVert = \\alpha^{-1} \\lVert e^{(n-1)}\\rVert$. That is, in this case, the Jacobi method is linear convergence."
   ]
  },
  {
   "cell_type": "code",
   "execution_count": 5,
   "metadata": {},
   "outputs": [],
   "source": [
    "import numpy as np\n",
    "import matplotlib.pyplot as plt\n",
    "from numpy import linalg as LA"
   ]
  },
  {
   "cell_type": "code",
   "execution_count": 11,
   "metadata": {},
   "outputs": [],
   "source": [
    "# For alpha = 2\n",
    "A = np.array([[2, 0 , 1], [0, 2, 0], [1, 0, 2]])\n",
    "b = np.array([1,1,1])\n",
    "\n",
    "L = np.array([[0, 0 , 0], [0, 0, 0], [1, 0, 0]])\n",
    "D = np.array([[2, 0 , 0], [0, 2, 0], [0, 0, 2]])\n",
    "U = np.array([[0, 0 , 1], [0, 0, 0], [0, 0, 0]])\n",
    "x_0 = np.array([1,1,1])\n",
    "\n",
    "D_inv = LA.inv(D)\n",
    "tmp = L+U\n",
    "x = [D_inv @ (b-tmp @ x_0)]\n",
    "er = []\n",
    "for i in range(39):\n",
    "    x.append(D_inv @ (b-tmp @ x[i]))\n",
    "for i in range(39):\n",
    "    er.append(LA.norm(x[-1]-x[i]))"
   ]
  },
  {
   "cell_type": "code",
   "execution_count": 17,
   "metadata": {},
   "outputs": [
    {
     "data": {
      "image/png": "[encoded data removed]",
      "text/plain": [
       "<Figure size 432x288 with 1 Axes>"
      ]
     },
     "metadata": {
      "needs_background": "light"
     },
     "output_type": "display_data"
    }
   ],
   "source": [
    "# plot of linear convergence \n",
    "plt.plot(er, label = 'Jacobi')\n",
    "plt.xlabel('nth iteration')\n",
    "plt.title(r'Error Curve')\n",
    "plt.yscale('log')\n",
    "plt.legend()\n",
    "plt.show()"
   ]
  },
  {
   "cell_type": "markdown",
   "metadata": {},
   "source": [
    "### Gauss-Seidel Method\n",
    "Using the previous notations, the Gauss-seidel method is followed by\n",
    "$$x^{(n)} = (L+D)^{-1}(b-Ux_{n-1})=\\begin{bmatrix} b_1/\\alpha \\\\ b_2/\\alpha \\\\ b_3/\\alpha-b_1/\\alpha^2 \\end{bmatrix} - \\begin{bmatrix} 0 & 0 & 1/\\alpha \\\\ 0 & 0 & 0 \\\\ 0 & 0 & -1/\\alpha^2 \\end{bmatrix}x^{(n-1)}=\\begin{bmatrix} (b_1-x_3^{(n-1)})/\\alpha \\\\ b_2/\\alpha \\\\ b_3/\\alpha-(b_1-x_3^{(n-1)})/\\alpha^2 \\end{bmatrix},$$\n",
    "provided by $\\alpha\\neq 0$ for $n\\in\\mathbb{N}$. Also, if we defined the iteration matrix $G=-(L+D)^{-1}U=I-(L+U)^{-1}A$, then the error $e^{(n)}$ of the $n$th iteration can be computed by\n",
    "$$e^{(n)} = G e^{(n-1)}= \\begin{bmatrix} 0 & 0 & -1/\\alpha \\\\ 0 & 0 & 0 \\\\ 0 & 0 & 1/\\alpha^2 \\end{bmatrix}e^{(n-1)}=G^ne^{(0)}=\\begin{bmatrix} 0 & 0 & -1/\\alpha^{2n-1} \\\\ 0 & 0 & 0 \\\\ 0 & 0 & 1/\\alpha^{2n} \\end{bmatrix}e^{(0)}=\\begin{bmatrix} -e_3^{(0)}/\\alpha^{2n-1} \\\\ 0 \\\\ e_3^{(0)}/\\alpha^{2n} \\end{bmatrix}.$$\n",
    "Similarly, from the explicit form of $e^{(n)}$, it is clear that $e^{(n)}\\to 0$ as $n\\to\\infty$ if $|\\alpha|>1$. Alternatively, since the eignvales of $G$ are $0$, $0$, and $1/\\alpha^2$, $e^{(n)}$ converges to zero if and only if $\\rho(G)=1/\\alpha^2 < 1$, namely $|\\alpha|>1$. Notice that for fixed $|\\alpha|>1$, $\\rho(G_{\\text{GS}}) < \\rho(G_{\\text{J}})$, which implies that $\\lVert G_{\\text{GS}} \\rVert_\\infty < \\lVert G_{\\text{J}} \\rVert_\\infty$ in this case.\n",
    "\n",
    "\n",
    "The rate of convergence can also be derived by $\\lVert e^{(n)}\\rVert \\leq \\lVert G \\rVert \\lVert e^{(n-1)}\\rVert = \\alpha^{-2} \\lVert e^{(n-1)}\\rVert$. That is, the linear convergence. Moreover, since $\\lVert G_{\\text{GS}} \\rVert_\\infty < \\lVert G_{\\text{J}} \\rVert_\\infty$ the slope of Gauss-Seidel method should be less than that of Jacobi method. "
   ]
  },
  {
   "cell_type": "code",
   "execution_count": 14,
   "metadata": {},
   "outputs": [],
   "source": [
    "LD_inv = LA.inv(L+D)\n",
    "y = [LD_inv @ (b-U @ x_0)]\n",
    "err = []\n",
    "for i in range(39):\n",
    "    y.append(LD_inv @ (b-U @ y[i]))\n",
    "for i in range(39):\n",
    "    err.append(LA.norm(y[-1]-y[i]))"
   ]
  },
  {
   "cell_type": "code",
   "execution_count": 16,
   "metadata": {},
   "outputs": [
    {
     "data": {
      "image/png": "[encoded data removed]",
      "text/plain": [
       "<Figure size 432x288 with 1 Axes>"
      ]
     },
     "metadata": {
      "needs_background": "light"
     },
     "output_type": "display_data"
    }
   ],
   "source": [
    "# Slope of Gauss-Seidel method is less than that of Jacobi method.\n",
    "plt.plot(er,label = 'Jacobi')\n",
    "plt.plot(err,label = 'Gauss-Seidel')\n",
    "plt.xlabel('nth iteration')\n",
    "plt.title(r'Error Curve')\n",
    "plt.yscale('log')\n",
    "plt.legend()\n",
    "plt.show()"
   ]
  }
 ],
 "metadata": {
  "kernelspec": {
   "display_name": "Python 3",
   "language": "python",
   "name": "python3"
  },
  "language_info": {
   "codemirror_mode": {
    "name": "ipython",
    "version": 3
   },
   "file_extension": ".py",
   "mimetype": "text/x-python",
   "name": "python",
   "nbconvert_exporter": "python",
   "pygments_lexer": "ipython3",
   "version": "3.7.3"
  }
 },
 "nbformat": 4,
 "nbformat_minor": 2
}
