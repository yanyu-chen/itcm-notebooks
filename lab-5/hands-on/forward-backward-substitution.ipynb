{
 "cells": [
  {
   "cell_type": "markdown",
   "metadata": {},
   "source": [
    "# Linear System: Forward/Backward Substitution"
   ]
  },
  {
   "cell_type": "markdown",
   "metadata": {},
   "source": [
    "Import libraries"
   ]
  },
  {
   "cell_type": "code",
   "execution_count": null,
   "metadata": {},
   "outputs": [],
   "source": [
    "import numpy as np"
   ]
  },
  {
   "cell_type": "markdown",
   "metadata": {},
   "source": [
    "### Consider we want to solve a linear system \n",
    "### $$ Ax = b,$$\n",
    "### where $A \\in \\mathbb{R}^{n \\times n}, x,b \\in \\mathbb{R}^n$."
   ]
  },
  {
   "cell_type": "markdown",
   "metadata": {},
   "source": [
    "## Forward Substitution\n",
    "\n",
    "If the matrix $A$ is lower triangular matrix $L$, that is \n",
    "\n",
    "$$Lx = b = \n",
    "\\begin{pmatrix}\n",
    "l_{11}&  & O \\\\\n",
    "\\vdots & \\ddots & \\\\\n",
    "l_{n1} & \\dots & l_{nn} \n",
    "\\end{pmatrix}\n",
    "\\begin{pmatrix}\n",
    "x_1 \\\\\n",
    "\\vdots \\\\\n",
    "x_n\n",
    "\\end{pmatrix}\n",
    "=\n",
    "\\begin{pmatrix}\n",
    "b_1 \\\\\n",
    "\\vdots \\\\\n",
    "b_n\n",
    "\\end{pmatrix}\n",
    "$$\n",
    "\n",
    "It's easy to find that \n",
    "\n",
    "$$\n",
    "\\begin{aligned}\n",
    "x_1 &= b_1 / l_{11} \\\\\n",
    "x_2 &= (b_2 - l_{21}x_1) / l_{22} \\\\\n",
    "&\\vdots \\\\\n",
    "x_i &= (b_i - \\sum_{j=1}^{i-1} l_{ij}x_j)/l_{ii}\n",
    "\\end{aligned}\n",
    "$$"
   ]
  },
  {
   "cell_type": "code",
   "execution_count": null,
   "metadata": {
    "deletable": false,
    "nbgrader": {
     "cell_type": "code",
     "checksum": "4b1fe9f48f6cf863ed38d761c245c32f",
     "grade": false,
     "grade_id": "cell-485279df484563e5",
     "locked": false,
     "schema_version": 3,
     "solution": true,
     "task": false
    }
   },
   "outputs": [],
   "source": [
    "def forward_substitution(L, b):\n",
    "    assert len(L.shape) == 2\n",
    "    m, n = L.shape\n",
    "    assert m == n\n",
    "    assert len(b) == n\n",
    "\n",
    "    # ===== 請實做程式 =====\n",
    "    \n",
    "    # ===================="
   ]
  },
  {
   "cell_type": "code",
   "execution_count": null,
   "metadata": {},
   "outputs": [],
   "source": [
    "L = np.array([\n",
    "    [1, 0, 0],\n",
    "    [2, 3, 0],\n",
    "    [4, 5, 6]\n",
    "])\n",
    "x = np.array([11, 22, 33])\n",
    "print('L:', L)\n",
    "print('x:', x)\n",
    "print('answer:', forward_substitution(L, np.dot(L, x)))"
   ]
  },
  {
   "cell_type": "markdown",
   "metadata": {},
   "source": [
    "## Backward Substitution\n",
    "\n",
    "If the matrix $A$ is upper triangular matrix $U$, that is \n",
    "\n",
    "$$Ux = b = \n",
    "\\begin{pmatrix}\n",
    "u_{11} & \\dots & u_{1n} \\\\\n",
    " & \\ddots & \\vdots \\\\\n",
    "O &  & u_{nn} \n",
    "\\end{pmatrix}\n",
    "\\begin{pmatrix}\n",
    "x_1 \\\\\n",
    "\\vdots \\\\\n",
    "x_n\n",
    "\\end{pmatrix}\n",
    "=\n",
    "\\begin{pmatrix}\n",
    "b_1 \\\\\n",
    "\\vdots \\\\\n",
    "b_n\n",
    "\\end{pmatrix}\n",
    "$$\n",
    "\n",
    "It's easy to find that \n",
    "\n",
    "$$\n",
    "\\begin{aligned}\n",
    "x_n &= b_n / u_{nn} \\\\\n",
    "x_{n-1} &= (b_{n-1} - u_{n-1,n}x_n) / u_{n-1,n-1} \\\\\n",
    "&\\vdots \\\\\n",
    "x_i &= (b_i - \\sum_{j=i+1}^{n} u_{ij}x_j)/u_{ii}\n",
    "\\end{aligned}\n",
    "$$"
   ]
  },
  {
   "cell_type": "code",
   "execution_count": null,
   "metadata": {
    "deletable": false,
    "nbgrader": {
     "cell_type": "code",
     "checksum": "f5787aa54a6c402f1fe115e7f4472fb4",
     "grade": false,
     "grade_id": "cell-94dc732a993ff3a0",
     "locked": false,
     "schema_version": 3,
     "solution": true,
     "task": false
    }
   },
   "outputs": [],
   "source": [
    "def backward_substitution(U, b):\n",
    "    assert len(U.shape) == 2\n",
    "    m, n = U.shape\n",
    "    assert m == n\n",
    "    assert len(b) == n\n",
    "    \n",
    "    # ===== 請實做程式 =====\n",
    "    \n",
    "    # ===================="
   ]
  },
  {
   "cell_type": "code",
   "execution_count": null,
   "metadata": {},
   "outputs": [],
   "source": [
    "U = np.array([\n",
    "    [1, 2, 3],\n",
    "    [0, 4, 5],\n",
    "    [0, 0, 9]\n",
    "])\n",
    "x = np.array([11, 22, 33])\n",
    "print('U:', U)\n",
    "print('x:', x)\n",
    "print('answer:', backward_substitution(U, np.dot(U, x)))"
   ]
  },
  {
   "cell_type": "markdown",
   "metadata": {},
   "source": [
    "## Example: Solve linear system with LU\n",
    "\n",
    "For any $A \\in \\mathbb{R}^{n \\times n}$, there are lower/upper triangular matrix $L/U$ such that \n",
    "$$A=LU.$$\n",
    "\n",
    "In this example, we use pivoted LU, i.e. $$Ax=b \\implies PAx=Pb \\implies LUx=Pb.$$\n",
    "Solve this equation is equivalent to solve $Lw=Pb$ by forward substitution and then solve $Ux=w$ by backward substitution."
   ]
  },
  {
   "cell_type": "code",
   "execution_count": null,
   "metadata": {},
   "outputs": [],
   "source": [
    "from scipy.linalg import lu\n",
    "A = np.array([\n",
    "    [1, 2, 3],\n",
    "    [7, 4, 5],\n",
    "    [8, 1, 9]\n",
    "])\n",
    "P, L, U = lu(A) # pivoted LU decompostion"
   ]
  },
  {
   "cell_type": "code",
   "execution_count": null,
   "metadata": {},
   "outputs": [],
   "source": [
    "print('P:', P)\n",
    "print('L:', L)\n",
    "print('U:', U)"
   ]
  },
  {
   "cell_type": "code",
   "execution_count": null,
   "metadata": {},
   "outputs": [],
   "source": [
    "x = np.array([11, 22, 33])\n",
    "b = P @ A @ x\n",
    "w = forward_substitution(L, b)\n",
    "answer = backward_substitution(U, w)\n",
    "print('x:', x)\n",
    "print('answer:', answer)"
   ]
  }
 ],
 "metadata": {
  "jupytext": {
   "text_representation": {
    "extension": ".py",
    "format_name": "light",
    "format_version": "1.4",
    "jupytext_version": "1.2.3"
   }
  },
  "kernelspec": {
   "display_name": "Python 3",
   "language": "python",
   "name": "python3"
  },
  "language_info": {
   "codemirror_mode": {
    "name": "ipython",
    "version": 3
   },
   "file_extension": ".py",
   "mimetype": "text/x-python",
   "name": "python",
   "nbconvert_exporter": "python",
   "pygments_lexer": "ipython3",
   "version": "3.7.4"
  }
 },
 "nbformat": 4,
 "nbformat_minor": 2
}
