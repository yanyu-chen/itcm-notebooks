{
 "cells": [
  {
   "cell_type": "markdown",
   "metadata": {},
   "source": [
    "# Linear System: Gaussian Elimination\n",
    "---\n",
    "\n",
    "### Gaussian elimination, also known as row reduction, is an algorithm in linear algebra for solving a system of linear equations.\n",
    "### It is usually understood as a sequence of operations performed on the corresponding matrix of coefficients.\n",
    "### This method can also be used to find the rank of a matrix, to calculate the determinant of a matrix, and to calculate the inverse of an invertible square matrix.\n",
    "---\n",
    "\n",
    "### For example, consider the following $3 \\times 3$ system of equations.\n",
    "### $$\\begin{matrix}\n",
    "    &x_1 + 2x_2 - x_3 = 3\\\\\n",
    "    &2x_1 - x_2 + 2x_3 = 6\\\\\n",
    "    &x_1 - 3x_2 + 3x_3 = 3\n",
    "    \\end{matrix}$$\n",
    "    \n",
    "### So we can convert this linear system to this form\n",
    "### $$Ax = b$$\n",
    "### where $A \\in \\mathbb{R}^{3 \\times 3}, x \\in \\mathbb{R}^3$ and $b \\in \\mathbb{R}^3$.\n",
    "### Moverover,\n",
    "### $$A = \\left[\\begin{matrix}\n",
    "    1 && 2 && -1\\\\  2 && -1 && 2\\\\  1 && -3 && 3\n",
    "    \\end{matrix}\\right],\\,\n",
    "    x = \\left[\\begin{matrix} x_1\\\\ x_2\\\\ x_3\\end{matrix}\\right] \\quad \\text{and} \\quad\n",
    "    b = \\left[\\begin{matrix} 3\\\\ 6\\\\ 3\\end{matrix}\\right]$$\n",
    "\n",
    "### Therefore, the process of _Gaussian Elimination_ is\n",
    "### $$A | b \\,\\,\\,=\\,\\,\\, \n",
    "    \\left[\\begin{matrix}\n",
    "    1 && 2 && -1\\\\  2 && -1 && 2\\\\  1 && -3 && 3\n",
    "    \\end{matrix}\\right|\\left.\\begin{matrix}\n",
    "    &3\\\\ &6\\\\ &3\n",
    "    \\end{matrix}\\right]\\,\\,\n",
    "    \\xrightarrow{L_1 = \\left[\\begin{matrix}1 && 0 && 0\\\\  -2 && 1 && 0\\\\  -1 && 0 && 1\\end{matrix}\\right]}\\,\\,\n",
    "    \\left[\\begin{matrix}\n",
    "    1 && 2 && -1\\\\  0 && -5 && 4\\\\  0 && -5 && 4\n",
    "    \\end{matrix}\\right|\\left.\\begin{matrix}\n",
    "    &3\\\\ &0\\\\ &0\n",
    "    \\end{matrix}\\right]\\\\\n",
    "    \\xrightarrow{L_2 = \\left[\\begin{matrix}1 && 0 && 0\\\\  0 && 1 && 0\\\\  0 && -1 && 1\\end{matrix}\\right]}\\,\\,\n",
    "    \\left[\\begin{matrix}\n",
    "    1 && 2 && -1\\\\  0 && -5 && 4\\\\  0 && 0 && 0\n",
    "    \\end{matrix}\\right|\\left.\\begin{matrix}\n",
    "    &3\\\\ &0\\\\ &0\n",
    "    \\end{matrix}\\right]$$\n",
    "\n",
    "### Suppose we can factor $A$ into $A = LU$, where $L$ be the lower-triangular matrix and $U$ be the upper-triangular matrix.\n",
    "### Let $U$ be the upper-triangular matrix and\n",
    "### $$U = \\left[\\begin{matrix}\n",
    "    1 && 2 && -1\\\\  0 && -5 && 4\\\\  0 && 0 && 0\n",
    "    \\end{matrix}\\right]$$\n",
    "### Then\n",
    "### $$L = L_1^{-1}L_2^{-1}$$\n",
    "### After _Gaussian Elimination_ , the linear system will be\n",
    "### $$Ax = b \\to LUx = b \\to Ux = L^{-1}b$$\n",
    "\n",
    "### Finally, we will get the solution $x$ after solving the simple linear system $Ux = L^{-1}b$.\n",
    "---\n",
    "## Conclusion:\n",
    "\n",
    "### If there's a linear system $Ax = b$, where $A \\in \\mathbb{R}^{m \\times m}$.\n",
    "### Suppose we can factor $A$ into $LU$, where $L \\in \\mathbb{R}^{m \\times m}$ be the lower-triangular matrix and $U \\in \\mathbb{R}^{m \\times m}$ be the upper-triangular matrix.\n",
    "### After _Gaussian Elimination_ , then\n",
    "### $$L = L_1^{-1} L_2^{-1} \\cdots L_{m-1}^{-1}$$\n",
    "### Thus, we will get the solution $x$ after solving the simple linear system $Ux = L^{-1}b$."
   ]
  },
  {
   "cell_type": "markdown",
   "metadata": {},
   "source": [
    "---\n",
    "# Without Pivoting\n",
    "\n",
    "## Steps:\n",
    "### (1) Multiplying a row by a nonzero number.\n",
    "### (2) Adding a multiple of one row to another row.\n",
    "\n",
    "---\n",
    "\n",
    "## Algorithm\n",
    "\n",
    "### $U = A$, $L = I$\n",
    "### for $k = 1$ to $m - 1$\n",
    "### $\\quad$ for $j = k + 1$ to $m$\n",
    "### $\\quad \\quad L[j,k] = -U[j,k]\\,/\\,U[k,k]$\n",
    "### $\\quad \\quad U[j,k:m] = U[j,k:m] + L[j,k]\\,U[k,k:m]$\n",
    "### $\\quad$ end\n",
    "### end"
   ]
  },
  {
   "cell_type": "markdown",
   "metadata": {},
   "source": [
    "---\n",
    "## Implement\n",
    "\n",
    "### Part 1. Import libraries"
   ]
  },
  {
   "cell_type": "code",
   "execution_count": null,
   "metadata": {},
   "outputs": [],
   "source": [
    "import numpy as np\n",
    "from numpy import linalg as LA"
   ]
  },
  {
   "cell_type": "markdown",
   "metadata": {},
   "source": [
    "### Part 2. Compute the function of Gaussian Elimination"
   ]
  },
  {
   "cell_type": "code",
   "execution_count": null,
   "metadata": {
    "deletable": false,
    "nbgrader": {
     "cell_type": "code",
     "checksum": "a5526b5f9bbf082230562483d253b096",
     "grade": false,
     "grade_id": "cell-7fe6f93d1913df2a",
     "locked": false,
     "schema_version": 3,
     "solution": true,
     "task": false
    }
   },
   "outputs": [],
   "source": [
    "def gaussian_elimination(\n",
    "    A,\n",
    "    b\n",
    "):\n",
    "    '''\n",
    "    Input:\n",
    "    A : m x m matrix\n",
    "    b : m x 1 vector\n",
    "    \n",
    "    Return:\n",
    "    L : m x m lower-triangular matrix\n",
    "    U : m x m upper-triangular matrix\n",
    "    x : m x 1 solution\n",
    "    '''\n",
    "    \n",
    "    # ===== 請實做程式 =====\n",
    "    \n",
    "    # ===================="
   ]
  },
  {
   "cell_type": "markdown",
   "metadata": {},
   "source": [
    "---\n",
    "## Example\n",
    "\n",
    "### Consider the following linear system.\n",
    "### $$\\begin{matrix}\n",
    "    &2x + y - z = 8\\\\\n",
    "    &-3x - y + 2z = -11\\\\\n",
    "    &-2x + y + 2z = -3\n",
    "    \\end{matrix}$$"
   ]
  },
  {
   "cell_type": "code",
   "execution_count": null,
   "metadata": {},
   "outputs": [],
   "source": [
    "A = np.array([\n",
    "    [2., 1., -1.],\n",
    "    [-3., -1., 2.],\n",
    "    [-2., 1., 2.]\n",
    "])\n",
    "\n",
    "b = np.array([\n",
    "    [8.],\n",
    "    [-11.],\n",
    "    [-3.]\n",
    "])"
   ]
  },
  {
   "cell_type": "code",
   "execution_count": null,
   "metadata": {},
   "outputs": [],
   "source": [
    "L, U, x = gaussian_elimination(A, b)\n",
    "print(\"L =\", L)\n",
    "print(\"U =\", U)\n",
    "print(\"x =\", x)"
   ]
  },
  {
   "cell_type": "markdown",
   "metadata": {},
   "source": [
    "## End"
   ]
  }
 ],
 "metadata": {
  "jupytext": {
   "text_representation": {
    "extension": ".py",
    "format_name": "light",
    "format_version": "1.4",
    "jupytext_version": "1.2.3"
   }
  },
  "kernelspec": {
   "display_name": "Python 3",
   "language": "python",
   "name": "python3"
  },
  "language_info": {
   "codemirror_mode": {
    "name": "ipython",
    "version": 3
   },
   "file_extension": ".py",
   "mimetype": "text/x-python",
   "name": "python",
   "nbconvert_exporter": "python",
   "pygments_lexer": "ipython3",
   "version": "3.7.4"
  }
 },
 "nbformat": 4,
 "nbformat_minor": 2
}
