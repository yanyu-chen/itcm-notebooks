{
 "cells": [
  {
   "cell_type": "markdown",
   "metadata": {},
   "source": [
    "# Secant method\n",
    "\n",
    "The secant method is very similar to the bisection method except instead of dividing each interval, and the solution is also guaranteed by the [_**Intermediate Value Theorem**_](https://www.wikiwand.com/en/Intermediate_value_theorem).<br>\n",
    "\n",
    "<img src='https://www.cs.rochester.edu/u/brown/160_10_27_11/lectures/root_finding/secant.jpg'>"
   ]
  },
  {
   "cell_type": "markdown",
   "metadata": {},
   "source": [
    "## Formula\n",
    "\n",
    "Let $a = x_0$ and $b = x_1$.\n",
    "<br><br>\n",
    "Let $f(x)$ be a continuous function on a closed interval $[a, b]$ such that $f(a)f(b) < 0$.\n",
    "<br><br>\n",
    "Consider two points $(a, f(a))$ and $(b, f(b))$. So the secant line connecting these two points is\n",
    "    $$y_0 = \\frac{f(b) - f(a)}{b - a}(x - a) + f(a).$$\n",
    "Then the point cross $x$-axis is\n",
    "    $$0 = \\frac{f(b) - f(a)}{b - a}(x - a) + f(a);$$\n",
    "therefore,\n",
    "    $$x = a - f(a) \\frac{b - a}{f(b) - f(a)} = a_{\\text{next}}.$$\n",
    "For convenience, we define\n",
    "    $$\\Delta x = - f(a) \\frac{b - a}{f(b) - f(a)},$$\n",
    "so\n",
    "    $$x = a + \\Delta x.$$"
   ]
  },
  {
   "cell_type": "markdown",
   "metadata": {},
   "source": [
    "## Implement"
   ]
  },
  {
   "cell_type": "markdown",
   "metadata": {},
   "source": [
    "### Part 0. Import necessary libraries"
   ]
  },
  {
   "cell_type": "code",
   "execution_count": 1,
   "metadata": {},
   "outputs": [],
   "source": [
    "import matplotlib.pyplot as plt\n",
    "import numpy as np"
   ]
  },
  {
   "cell_type": "markdown",
   "metadata": {},
   "source": [
    "### Part 1. Implement the formula"
   ]
  },
  {
   "cell_type": "code",
   "execution_count": 2,
   "metadata": {},
   "outputs": [
    {
     "ename": "SyntaxError",
     "evalue": "invalid syntax (<ipython-input-2-a3d0c85f2d54>, line 51)",
     "output_type": "error",
     "traceback": [
      "\u001b[1;36m  File \u001b[1;32m\"<ipython-input-2-a3d0c85f2d54>\"\u001b[1;36m, line \u001b[1;32m51\u001b[0m\n\u001b[1;33m    d_x = #-func(a_next)*(b_next-a_next)/(func(b_next))...\u001b[0m\n\u001b[1;37m                                                          ^\u001b[0m\n\u001b[1;31mSyntaxError\u001b[0m\u001b[1;31m:\u001b[0m invalid syntax\n"
     ]
    }
   ],
   "source": [
    "def secant(\n",
    "    func,\n",
    "    interval,\n",
    "    max_iterations=5,\n",
    "    tolerance=1e-7,\n",
    "    report_history=False,\n",
    "):\n",
    "    '''Approximate solution of f(x)=0 on interval [a,b] by the secant method.\n",
    "\n",
    "    Parameters\n",
    "    ----------\n",
    "    func : function\n",
    "        The target function.\n",
    "    interval: list\n",
    "        The initial interval to search\n",
    "    max_iterations : (positive) integer\n",
    "        One of the termination conditions. The amount of iterations allowed.\n",
    "    tolerance: float\n",
    "        One of the termination conditions. Error tolerance.\n",
    "    report_history: bool\n",
    "        Whether to return history.\n",
    "\n",
    "    Returns\n",
    "    -------\n",
    "    solution : float\n",
    "        Approximation of the root.\n",
    "    history: dict\n",
    "        Return history of the solving process if report_history is True.\n",
    "    '''\n",
    "    \n",
    "    # Ensure the initial interval is valid\n",
    "    a, b = interval\n",
    "    assert func(a) * func(b) < 0, 'This initial interval does not satisfied the prerequisites!'\n",
    "    \n",
    "    ################################\n",
    "    ### Answer the code here\n",
    "    # Set the initial condition\n",
    "    num_iterations = 0\n",
    "    a_next, b_next = a, b\n",
    "    ### End answer\n",
    "    ################################\n",
    "    \n",
    "    # history of solving process\n",
    "    if report_history:\n",
    "        history = {'estimation': [], 'x_error': [], 'y_error': []}\n",
    "    \n",
    "    while True:\n",
    "        ################################\n",
    "        ### Answer the code here\n",
    "        # Find the next point\n",
    "        d_x = #-func(a_next)*(b_next-a_next)/(func(b_next))...\n",
    "        c = None\n",
    "        ### End answer\n",
    "        ################################\n",
    "        \n",
    "        # Evaluate the error\n",
    "        x_error = abs(d_x)\n",
    "        y_error = abs(func(c))\n",
    "\n",
    "        if report_history:\n",
    "            history['estimation'].append(c)\n",
    "            history['x_error'].append(x_error)\n",
    "            history['y_error'].append(y_error)\n",
    "\n",
    "        # Satisfy the criterion and stop\n",
    "        if x_error < tolerance or y_error < tolerance:\n",
    "            print('Found solution after', num_iterations,'iterations.')\n",
    "            return c, history if report_history else c\n",
    "        \n",
    "        ################################\n",
    "        ### Answer the code here\n",
    "        # Check the number of iterations\n",
    "        if num_iterations < max_iterations:\n",
    "            \n",
    "            num_iterations += 1\n",
    "            \n",
    "            # Find the next interval\n",
    "            value_of_func_c = func(c)\n",
    "            if func(a_next) * value_of_func_c < 0:\n",
    "                a_next = a_next\n",
    "                b_next = c\n",
    "            elif value_of_func_c * func(b_next) < None:\n",
    "                a_next = c\n",
    "                b_next = b_next\n",
    "        ### End answer\n",
    "        ################################\n",
    "            \n",
    "            else:\n",
    "                return c, history if report_history else c\n",
    "        \n",
    "        # Satisfy the criterion and stop\n",
    "        else:\n",
    "            print('Terminate since reached the maximum iterations.')\n",
    "            return c, history if report_history else c\n"
   ]
  },
  {
   "cell_type": "markdown",
   "metadata": {},
   "source": [
    "## Example\n",
    "\n",
    "Let's using the same function in secant method \n",
    "\n",
    "$$f(x) = x^2 - x - 1 = 0$$"
   ]
  },
  {
   "cell_type": "code",
   "execution_count": null,
   "metadata": {},
   "outputs": [],
   "source": [
    "def f(x):\n",
    "    ################################\n",
    "    ### Answer the code here\n",
    "    return x**2-x-1\n",
    "    ### End answer\n",
    "    ################################"
   ]
  },
  {
   "cell_type": "code",
   "execution_count": null,
   "metadata": {},
   "outputs": [],
   "source": [
    "# Solution of f(x)\n",
    "exact_solution = (1 + np.sqrt(5)) / 2\n",
    "print(exact_solution)"
   ]
  },
  {
   "cell_type": "markdown",
   "metadata": {},
   "source": [
    "## Test"
   ]
  },
  {
   "cell_type": "code",
   "execution_count": null,
   "metadata": {},
   "outputs": [],
   "source": [
    "my_initial_interval = [1.0, 2.0]                  # Maybe [1.0, 2.0] is a good choice\n",
    "\n",
    "solution, history = secant(\n",
    "    f, \n",
    "    my_initial_interval,\n",
    "    max_iterations=100,\n",
    "    tolerance=1e-7,\n",
    "    report_history=True\n",
    ")\n",
    "print(solution)"
   ]
  },
  {
   "cell_type": "markdown",
   "metadata": {},
   "source": [
    "## Error Analysis"
   ]
  },
  {
   "cell_type": "code",
   "execution_count": null,
   "metadata": {},
   "outputs": [],
   "source": [
    "fig, axes = plt.subplots(4, 1, figsize=(16, 9))\n",
    "ax1, ax2, ax3, ax4 = axes\n",
    "\n",
    "num_iterations = len(history['estimation'])\n",
    "iterations = range(num_iterations)\n",
    "for ax in axes:\n",
    "    ax.set_xticks(iterations)\n",
    "\n",
    "# Plot the estimation in history\n",
    "ax1.plot(iterations, history['estimation'])\n",
    "ax1.set_ylabel('Estimation')\n",
    "\n",
    "# Plot the estimation error of x (log(error of x)) in history\n",
    "ax2.plot(iterations, history['x_error'])\n",
    "ax2.set_ylabel('Estimated Error of x')\n",
    "ax2.set_yscale('log')\n",
    "\n",
    "# Plot the estimation error of y (log(error of y)) in history\n",
    "ax3.plot(iterations, history['y_error'])\n",
    "ax3.set_ylabel('Estimated Error of y')\n",
    "ax3.set_yscale('log')\n",
    "\n",
    "# Plot the estimation actual error (estimation - exact solution) in history\n",
    "actual_error = np.abs(history['estimation']-exact_solution)\n",
    "ax4.plot(iterations, actual_error)\n",
    "ax4.set_ylabel('Actual error')\n",
    "ax4.set_yscale('log')\n",
    "ax4.set_xlabel('Iterations')\n",
    "\n",
    "plt.tight_layout()\n",
    "plt.show()"
   ]
  },
  {
   "cell_type": "markdown",
   "metadata": {},
   "source": [
    "## End"
   ]
  }
 ],
 "metadata": {
  "kernelspec": {
   "display_name": "Python 3",
   "language": "python",
   "name": "python3"
  },
  "language_info": {
   "codemirror_mode": {
    "name": "ipython",
    "version": 3
   },
   "file_extension": ".py",
   "mimetype": "text/x-python",
   "name": "python",
   "nbconvert_exporter": "python",
   "pygments_lexer": "ipython3",
   "version": "3.7.3"
  }
 },
 "nbformat": 4,
 "nbformat_minor": 2
}
